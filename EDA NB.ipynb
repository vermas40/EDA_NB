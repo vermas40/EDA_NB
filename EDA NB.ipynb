{
 "cells": [
  {
   "cell_type": "code",
   "execution_count": 14,
   "metadata": {},
   "outputs": [],
   "source": [
    "import pandas as pd\n",
    "import matplotlib.pyplot as plt\n",
    "import os\n",
    "import numpy as np\n",
    "import seaborn as sns\n",
    "import time\n",
    "sns.set()\n",
    "\n",
    "# Graphics in retina format are more sharp and legible\n",
    "%config InlineBackend.figure_format = 'retina' \n",
    "\n",
    "# Increase the default plot size and set the color scheme\n",
    "plt.rcParams['figure.figsize'] = 8, 5\n",
    "plt.rcParams['image.cmap'] = 'viridis'"
   ]
  },
  {
   "cell_type": "code",
   "execution_count": 15,
   "metadata": {},
   "outputs": [],
   "source": [
    "os.chdir('E:\\\\Libraries\\\\Documents\\\\Side Hoes\\\\EDA')"
   ]
  },
  {
   "cell_type": "code",
   "execution_count": 16,
   "metadata": {},
   "outputs": [],
   "source": [
    "dataset = pd.read_csv('Crashes_Last_Five_Years.csv')"
   ]
  },
  {
   "cell_type": "code",
   "execution_count": 17,
   "metadata": {},
   "outputs": [],
   "source": [
    "def num_cat(df):\n",
    "    num = df.select_dtypes(include=[np.number]).columns\n",
    "    cat = list(set(df.columns) - set(num))\n",
    "    \n",
    "    datatypes = {\n",
    "        'numeric' : num,\n",
    "        'categorical' : cat\n",
    "    }\n",
    "    \n",
    "    return datatypes"
   ]
  },
  {
   "cell_type": "code",
   "execution_count": 18,
   "metadata": {},
   "outputs": [],
   "source": [
    "def uni_bi_numeric(df,data_types):\n",
    "    print(df[data_types['numeric']].describe())\n",
    "    %config InlineBackend.figure_format = 'png' \n",
    "    sns.pairplot(df[data_types['numeric']])\n",
    "    "
   ]
  },
  {
   "cell_type": "code",
   "execution_count": null,
   "metadata": {},
   "outputs": [
    {
     "name": "stdout",
     "output_type": "stream",
     "text": [
      "                  X             Y      OBJECTID        NODE_ID     LONGITUDE  \\\n",
      "count  74908.000000  74908.000000  7.490800e+04   74908.000000  74908.000000   \n",
      "mean     144.971757    -37.709328  3.439198e+06  204381.781639    144.971757   \n",
      "std        0.813975      0.567138  2.162422e+04  125612.688967      0.813975   \n",
      "min      140.966483    -39.023989  3.401744e+06       4.000000    140.966480   \n",
      "25%      144.848968    -37.950559  3.420471e+06   46459.000000    144.848968   \n",
      "50%      145.012758    -37.815862  3.439198e+06  274638.500000    145.012760   \n",
      "75%      145.203843    -37.696844  3.457924e+06  307695.750000    145.203842   \n",
      "max      149.757468    -34.127672  3.476651e+06  343479.000000    149.757470   \n",
      "\n",
      "           LATITUDE     VICGRID_X     VICGRID_Y  TOTAL_PERSONS  INJ_OR_FATAL  \\\n",
      "count  74908.000000  7.490800e+04  7.490800e+04   74908.000000  74908.000000   \n",
      "mean     -37.709328  2.497414e+06  2.420972e+06       2.388103      1.263817   \n",
      "std        0.567138  7.228039e+04  6.263778e+04       1.539652      0.699218   \n",
      "min      -39.023990  2.129485e+06  2.274527e+06       1.000000      0.000000   \n",
      "25%      -37.950560  2.486701e+06  2.394397e+06       2.000000      1.000000   \n",
      "50%      -37.815860  2.501123e+06  2.409426e+06       2.000000      1.000000   \n",
      "75%      -37.696845  2.517932e+06  2.422560e+06       3.000000      1.000000   \n",
      "max      -34.127670  2.920148e+06  2.814427e+06      97.000000     27.000000   \n",
      "\n",
      "           ...        PED_CYCLIST_13_18  OLD_PEDESTRIAN    OLD_DRIVER  \\\n",
      "count      ...             74908.000000    74908.000000  74908.000000   \n",
      "mean       ...                 0.016447        0.019731      0.065721   \n",
      "std        ...                 0.131623        0.142301      0.253757   \n",
      "min        ...                 0.000000        0.000000      0.000000   \n",
      "25%        ...                 0.000000        0.000000      0.000000   \n",
      "50%        ...                 0.000000        0.000000      0.000000   \n",
      "75%        ...                 0.000000        0.000000      0.000000   \n",
      "max        ...                 3.000000        3.000000      3.000000   \n",
      "\n",
      "       YOUNG_DRIVER   UNLICENCSED  NO_OF_VEHICLES  HEAVYVEHICLE  \\\n",
      "count  74908.000000  74908.000000    74908.000000  74908.000000   \n",
      "mean       0.300796      0.033241        1.805895      0.045990   \n",
      "std        0.518658      0.180453        0.748312      0.221363   \n",
      "min        0.000000      0.000000        1.000000      0.000000   \n",
      "25%        0.000000      0.000000        1.000000      0.000000   \n",
      "50%        0.000000      0.000000        2.000000      0.000000   \n",
      "75%        1.000000      0.000000        2.000000      0.000000   \n",
      "max        5.000000      2.000000       14.000000      4.000000   \n",
      "\n",
      "       PASSENGERVEHICLE    MOTORCYCLE  PUBLICVEHICLE  \n",
      "count      74908.000000  74908.000000   74908.000000  \n",
      "mean           1.423159      0.152681       0.012629  \n",
      "std            0.910647      0.368627       0.112501  \n",
      "min            0.000000      0.000000       0.000000  \n",
      "25%            1.000000      0.000000       0.000000  \n",
      "50%            1.000000      0.000000       0.000000  \n",
      "75%            2.000000      0.000000       0.000000  \n",
      "max           13.000000      5.000000       2.000000  \n",
      "\n",
      "[8 rows x 34 columns]\n",
      "time elapse458.03628754615784\n"
     ]
    }
   ],
   "source": [
    "data_cache = num_cat(dataset)\n",
    "tic = time.time()\n",
    "uni_bi_numeric(dataset,data_cache)\n",
    "toc = time.time()\n",
    "print('time elapse' + str(toc-tic))"
   ]
  }
 ],
 "metadata": {
  "kernelspec": {
   "display_name": "Python 3",
   "language": "python",
   "name": "python3"
  },
  "language_info": {
   "codemirror_mode": {
    "name": "ipython",
    "version": 3
   },
   "file_extension": ".py",
   "mimetype": "text/x-python",
   "name": "python",
   "nbconvert_exporter": "python",
   "pygments_lexer": "ipython3",
   "version": "3.6.4"
  }
 },
 "nbformat": 4,
 "nbformat_minor": 2
}
